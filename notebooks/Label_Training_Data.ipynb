{
 "cells": [
  {
   "cell_type": "code",
   "execution_count": 1,
   "id": "cba264af",
   "metadata": {},
   "outputs": [],
   "source": [
    "import cv2\n",
    "import numpy as np\n",
    "import os\n",
    "import csv\n",
    "import sys"
   ]
  },
  {
   "cell_type": "code",
   "execution_count": 2,
   "id": "373c8782",
   "metadata": {},
   "outputs": [],
   "source": [
    "state_tracker_path = os.path.join(os.getcwd(),\"labeling_state.csv\")\n",
    "if not os.path.exists(state_tracker_path):\n",
    "    state = np.array([0])\n",
    "    np.savetxt(state_tracker_path, state, delimiter=',')"
   ]
  },
  {
   "cell_type": "code",
   "execution_count": 3,
   "id": "d6971485",
   "metadata": {},
   "outputs": [],
   "source": [
    "state_start = int(np.genfromtxt(state_tracker_path, delimiter=','))"
   ]
  },
  {
   "cell_type": "code",
   "execution_count": 4,
   "id": "cd023902",
   "metadata": {},
   "outputs": [],
   "source": [
    "training_data_dir = os.path.join(os.getcwd(), \"Training_Data\")\n",
    "training_data = os.listdir(training_data_dir)\n",
    "def process_dir_list(input_list):\n",
    "    input_list.sort()\n",
    "    if input_list[0] == \".DS_Store\" or input_list[0] == \"labels.csv\":\n",
    "        del input_list[0]\n",
    "    if input_list[-1] == \".DS_Store\" or input_list[-1] == \"labels.csv\":\n",
    "        del input_list[-1]\n",
    "process_dir_list(training_data)"
   ]
  },
  {
   "cell_type": "code",
   "execution_count": 6,
   "id": "73aae832",
   "metadata": {},
   "outputs": [
    {
     "ename": "KeyboardInterrupt",
     "evalue": "",
     "output_type": "error",
     "traceback": [
      "\u001b[0;31m---------------------------------------------------------------------------\u001b[0m",
      "\u001b[0;31mKeyboardInterrupt\u001b[0m                         Traceback (most recent call last)",
      "Input \u001b[0;32mIn [6]\u001b[0m, in \u001b[0;36m<cell line: 51>\u001b[0;34m()\u001b[0m\n\u001b[1;32m     64\u001b[0m \u001b[38;5;28;01mwhile\u001b[39;00m \u001b[38;5;28;01mTrue\u001b[39;00m:\n\u001b[1;32m     65\u001b[0m     cv2\u001b[38;5;241m.\u001b[39mimshow(\u001b[38;5;124m'\u001b[39m\u001b[38;5;124mimg\u001b[39m\u001b[38;5;124m'\u001b[39m, img)\n\u001b[0;32m---> 66\u001b[0m     k \u001b[38;5;241m=\u001b[39m \u001b[43mcv2\u001b[49m\u001b[38;5;241;43m.\u001b[39;49m\u001b[43mwaitKey\u001b[49m\u001b[43m(\u001b[49m\u001b[38;5;241;43m1\u001b[39;49m\u001b[43m)\u001b[49m\n\u001b[1;32m     67\u001b[0m     \u001b[38;5;28;01mif\u001b[39;00m k \u001b[38;5;241m==\u001b[39m \u001b[38;5;241m127\u001b[39m:\n\u001b[1;32m     68\u001b[0m         \u001b[38;5;28;01mif\u001b[39;00m \u001b[38;5;28mlen\u001b[39m(click_list) \u001b[38;5;241m>\u001b[39m \u001b[38;5;241m0\u001b[39m:\n",
      "\u001b[0;31mKeyboardInterrupt\u001b[0m: "
     ]
    }
   ],
   "source": [
    "cv2.destroyAllWindows()\n",
    "sys.stdin.flush()\n",
    "\n",
    "training_data_paths = list(map(lambda x: os.path.join(training_data_dir, x), training_data))\n",
    "\n",
    "click_list = []\n",
    "cur_num_clicks = 0\n",
    "\n",
    "body_parts = [\n",
    "    \"nose\",\n",
    "    \"left_ear\",\n",
    "    \"right_ear\",\n",
    "    \"top_neck\",\n",
    "    \"left_hip\",\n",
    "    \"right_hip\",\n",
    "    \"tail_base\",\n",
    "    \"tail_end\"\n",
    "]\n",
    "\n",
    "num_body_parts = len(body_parts)\n",
    "\n",
    "def print_next():\n",
    "    global cur_num_clicks\n",
    "    if cur_num_clicks > num_body_parts-1:\n",
    "        print(\"List Full!\")\n",
    "    else:\n",
    "        print(\"Next Body Part: \" + body_parts[cur_num_clicks])\n",
    "        \n",
    "\n",
    "def callback(event, x, y, flags, param):\n",
    "    global cur_num_clicks\n",
    "    global click_list\n",
    "    if event == 1:\n",
    "        print(body_parts[min(cur_num_clicks,num_body_parts-1)] + \": \"+ str(x) + \", \" + str(y))\n",
    "        cur_num_clicks += 1\n",
    "        click_list.append([x,y])\n",
    "        print_next()\n",
    "    elif event == 2:\n",
    "        print(\"Recorded pass for \"+ body_parts[min(cur_num_clicks,num_body_parts-1)] + \": -1, -1\")\n",
    "        cur_num_clicks += 1\n",
    "        click_list.append([-1,-1])\n",
    "        print_next()\n",
    "    pass\n",
    "cv2.namedWindow('img')\n",
    "cv2.setMouseCallback('img', callback)\n",
    "\n",
    "state_start = int(np.genfromtxt(state_tracker_path, delimiter=','))\n",
    "\n",
    "state = state_start\n",
    "\n",
    "for i in range(state_start, len(training_data)):\n",
    "    global click_list\n",
    "    global cur_num_clicks\n",
    "    click_list = []\n",
    "    cur_num_clicks = 0\n",
    "    images = os.listdir(training_data_paths[i])\n",
    "    process_dir_list(images)\n",
    "    image_paths = list(map(lambda x: os.path.join(training_data_paths[i], x), images))\n",
    "    trial_data = []\n",
    "    for image_path in image_paths:\n",
    "        img = cv2.imread(image_path)\n",
    "        image_clicks = []\n",
    "        sys.stdin.flush()\n",
    "        while True:\n",
    "            cv2.imshow('img', img)\n",
    "            k = cv2.waitKey(1)\n",
    "            if k == 127:\n",
    "                if len(click_list) > 0:\n",
    "                    del click_list[cur_num_clicks-1]\n",
    "                    cur_num_clicks -= 1\n",
    "                print(\"Current Trial Idx: \" + str(state))\n",
    "                print(click_list)\n",
    "                print_next()\n",
    "            if k == 32:\n",
    "                for j in range(0,num_body_parts):\n",
    "                    click_list.append([-1,-1])\n",
    "                cur_num_clicks += num_body_parts\n",
    "                print(click_list)\n",
    "                print_next()\n",
    "            if k == 13:\n",
    "                print(\"Current Trial Idx: \" + str(state))\n",
    "                print(click_list)\n",
    "                image_clicks = click_list.copy()\n",
    "                click_list = []\n",
    "                cur_num_clicks = 0\n",
    "                break\n",
    "        image_data = np.asarray(image_clicks,dtype=float).reshape(num_body_parts,2)\n",
    "        trial_data.append(image_data)\n",
    "    trial_data_np = np.concatenate(trial_data, axis=1).reshape(num_body_parts,8)\n",
    "    out_path = os.path.join(training_data_paths[i], \"labels.csv\")\n",
    "    if os.path.exists(out_path):\n",
    "        os.remove(out_path)\n",
    "    np.savetxt(out_path, trial_data_np, delimiter=',')\n",
    "    state += 1\n",
    "    state_data = np.array([state])\n",
    "    np.savetxt(state_tracker_path, state_data, delimiter=',')\n",
    "    "
   ]
  },
  {
   "cell_type": "code",
   "execution_count": null,
   "id": "db307ef9",
   "metadata": {},
   "outputs": [],
   "source": []
  }
 ],
 "metadata": {
  "kernelspec": {
   "display_name": "Python 3 (ipykernel)",
   "language": "python",
   "name": "python3"
  },
  "language_info": {
   "codemirror_mode": {
    "name": "ipython",
    "version": 3
   },
   "file_extension": ".py",
   "mimetype": "text/x-python",
   "name": "python",
   "nbconvert_exporter": "python",
   "pygments_lexer": "ipython3",
   "version": "3.9.10"
  }
 },
 "nbformat": 4,
 "nbformat_minor": 5
}
