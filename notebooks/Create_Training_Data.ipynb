{
 "cells": [
  {
   "cell_type": "code",
   "execution_count": 1,
   "id": "9f73be81",
   "metadata": {},
   "outputs": [],
   "source": [
    "import os\n",
    "data_dir = os.path.join(os.getcwd(), \"All_Data\")"
   ]
  },
  {
   "cell_type": "code",
   "execution_count": 2,
   "id": "1cee261b",
   "metadata": {},
   "outputs": [
    {
     "name": "stdout",
     "output_type": "stream",
     "text": [
      "Requirement already satisfied: ffmpeg-python in /Library/Frameworks/Python.framework/Versions/3.9/lib/python3.9/site-packages (0.2.0)\n",
      "Requirement already satisfied: future in /Library/Frameworks/Python.framework/Versions/3.9/lib/python3.9/site-packages (from ffmpeg-python) (0.18.2)\n",
      "\u001b[33mWARNING: You are using pip version 21.2.4; however, version 23.2.1 is available.\n",
      "You should consider upgrading via the '/Library/Frameworks/Python.framework/Versions/3.9/bin/python3.9 -m pip install --upgrade pip' command.\u001b[0m\n",
      "Note: you may need to restart the kernel to use updated packages.\n"
     ]
    }
   ],
   "source": [
    "%pip install ffmpeg-python"
   ]
  },
  {
   "cell_type": "code",
   "execution_count": 3,
   "id": "d34707b8",
   "metadata": {},
   "outputs": [],
   "source": [
    "one_liner = \"ffmpeg -i in.mp4 -vf select='between(n\\,x\\,y)' -vsync 0 image%d.png\"\n",
    "#get_num_frames_command = \"ffprobe -v error -select_streams v:0 -count_frames -show_entries stream=nb_read_frames -of csv=p=0 input.mp4\""
   ]
  },
  {
   "cell_type": "code",
   "execution_count": 4,
   "id": "66112511",
   "metadata": {},
   "outputs": [],
   "source": [
    "command_args = one_liner.split(' ')\n",
    "#frames_command_args = get_num_frames_command.split(' ')\n",
    "import subprocess"
   ]
  },
  {
   "cell_type": "code",
   "execution_count": 5,
   "id": "80c4fef6",
   "metadata": {},
   "outputs": [],
   "source": [
    "trial_ids = os.listdir(data_dir)\n",
    "def process_dir_list(input_list):\n",
    "    input_list.sort()\n",
    "    if input_list[0] == \".DS_Store\":\n",
    "        del input_list[0]\n",
    "    if input_list[-1] == \".DS_Store\":\n",
    "        del input_list[-1]\n",
    "process_dir_list(trial_ids)"
   ]
  },
  {
   "cell_type": "code",
   "execution_count": 6,
   "id": "c1adf74d",
   "metadata": {},
   "outputs": [
    {
     "name": "stdout",
     "output_type": "stream",
     "text": [
      "9612\n",
      "9261\n",
      "9201\n",
      "9243\n",
      "9201\n",
      "9201\n",
      "4260\n",
      "4236\n",
      "4299\n",
      "4269\n",
      "3918\n",
      "3888\n",
      "3909\n",
      "3942\n",
      "3864\n",
      "2898\n",
      "2988\n"
     ]
    }
   ],
   "source": [
    "import numpy as np\n",
    "import ffmpeg\n",
    "trial_paths = list(map(lambda x: os.path.join(data_dir, x), trial_ids))\n",
    "num_images = 10\n",
    "for i in range(len(trial_paths)):\n",
    "    trial_id = trial_ids[i]\n",
    "    videos = os.listdir(trial_paths[i])\n",
    "    process_dir_list(videos)\n",
    "    video_paths = list(map(lambda x: os.path.join(trial_paths[i], x), videos))\n",
    "    video_num_frames = []\n",
    "    for j in range(len(videos)):\n",
    "        metadata = ffmpeg.probe(video_paths[j])\n",
    "        for stream in metadata['streams']:\n",
    "            if stream['codec_type'] == 'video':\n",
    "                video_num_frames.append(stream['nb_frames'])\n",
    "    min_frames = video_num_frames[0]\n",
    "    print(min_frames)\n",
    "    for j in range(1, len(videos)):\n",
    "        min_frames = min(min_frames,video_num_frames[j])\n",
    "    indices = list(map(lambda x: round(x), np.linspace(0.,float(min_frames),num_images+1).tolist()))\n",
    "    for idx in indices[1:-1]:\n",
    "        cur_command_args = command_args.copy()\n",
    "        cur_dir = os.path.join(os.getcwd(), \"Training_Data\", trial_id+str(idx))\n",
    "        if not os.path.exists(cur_dir):\n",
    "            os.mkdir(cur_dir)\n",
    "        for j in range(len(videos)):\n",
    "            cur_command_args = command_args.copy()\n",
    "            cur_command_args[2] = video_paths[j]\n",
    "            cur_command_args[-1] = os.path.join(cur_dir, videos[j].split('.')[0] + \"-\" + cur_command_args[-1])\n",
    "            cur_command_args[4] = \"select='between(n\\,\"+str(idx)+\"\\,\"+str(idx)+\")\"\n",
    "            subprocess.run(cur_command_args, stdout = subprocess.DEVNULL, stderr = subprocess.DEVNULL)"
   ]
  },
  {
   "cell_type": "code",
   "execution_count": null,
   "id": "c6b86145",
   "metadata": {},
   "outputs": [],
   "source": []
  },
  {
   "cell_type": "code",
   "execution_count": null,
   "id": "d3388500",
   "metadata": {},
   "outputs": [],
   "source": []
  }
 ],
 "metadata": {
  "kernelspec": {
   "display_name": "Python 3 (ipykernel)",
   "language": "python",
   "name": "python3"
  },
  "language_info": {
   "codemirror_mode": {
    "name": "ipython",
    "version": 3
   },
   "file_extension": ".py",
   "mimetype": "text/x-python",
   "name": "python",
   "nbconvert_exporter": "python",
   "pygments_lexer": "ipython3",
   "version": "3.9.10"
  }
 },
 "nbformat": 4,
 "nbformat_minor": 5
}
